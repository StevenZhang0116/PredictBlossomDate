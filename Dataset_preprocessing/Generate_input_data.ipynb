{
 "metadata": {
  "language_info": {
   "codemirror_mode": {
    "name": "ipython",
    "version": 3
   },
   "file_extension": ".py",
   "mimetype": "text/x-python",
   "name": "python",
   "nbconvert_exporter": "python",
   "pygments_lexer": "ipython3",
   "version": "3.9.4"
  },
  "orig_nbformat": 2,
  "kernelspec": {
   "name": "python394jvsc74a57bd0aee8b7b246df8f9039afb4144a1f6fd8d2ca17a180786b69acc140d282b71a49",
   "display_name": "Python 3.9.4 64-bit"
  },
  "metadata": {
   "interpreter": {
    "hash": "aee8b7b246df8f9039afb4144a1f6fd8d2ca17a180786b69acc140d282b71a49"
   }
  }
 },
 "nbformat": 4,
 "nbformat_minor": 2,
 "cells": [
  {
   "cell_type": "code",
   "execution_count": 29,
   "metadata": {},
   "outputs": [],
   "source": [
    "import numpy as np\n",
    "import pandas as pd"
   ]
  },
  {
   "cell_type": "code",
   "execution_count": 30,
   "metadata": {},
   "outputs": [],
   "source": [
    "Kyoto_label = pd.read_csv(\"0_Labels_Kyoto.csv\")\n",
    "WDC_label = pd.read_csv(\"0_Labels_WDC.csv\")\n",
    "Kyoto_temperature = pd.read_csv(\"1_Temperature_Kyoto.csv\")\n",
    "WDC_temperature = pd.read_csv(\"1_Temperature_WDC.csv\")"
   ]
  },
  {
   "cell_type": "code",
   "execution_count": 31,
   "metadata": {
    "tags": []
   },
   "outputs": [],
   "source": [
    "TEMPERATURE_PERIOD = 10\n",
    "PREDICTION_PERIOD = 10\n",
    "total_records = np.zeros((0, TEMPERATURE_PERIOD + 1))"
   ]
  },
  {
   "cell_type": "code",
   "execution_count": 32,
   "metadata": {
    "tags": []
   },
   "outputs": [],
   "source": [
    "for year in range(1949, 2017): # WDC Tempreature Data\n",
    "    curr_flowering_DOY = WDC_label.iloc[year-1949, 1]\n",
    "    curr_records = np.zeros((curr_flowering_DOY - TEMPERATURE_PERIOD, TEMPERATURE_PERIOD + 1))\n",
    "    \n",
    "    if len(WDC_temperature[WDC_temperature[\"Year\"] == year]) > 0:\n",
    "        start_row = WDC_temperature[WDC_temperature[\"Year\"] == year].index[0]\n",
    "\n",
    "        for day in range(TEMPERATURE_PERIOD, curr_flowering_DOY):\n",
    "            curr_records[day-TEMPERATURE_PERIOD, :-1] = WDC_temperature.iloc[day-TEMPERATURE_PERIOD+start_row:day+start_row, 1].to_numpy()\n",
    "            curr_records[day-TEMPERATURE_PERIOD, -1] = curr_flowering_DOY - day if (curr_flowering_DOY - day <= PREDICTION_PERIOD) else 0\n",
    "        \n",
    "        total_records = np.vstack((total_records, curr_records))\n",
    "\n",
    "for year in range(1881, 2021): # Kyoto Tempreature Data\n",
    "    curr_flowering_DOY = Kyoto_label.iloc[year-1881, 1]\n",
    "    if curr_flowering_DOY != 0:\n",
    "        curr_records = np.zeros((curr_flowering_DOY - TEMPERATURE_PERIOD, TEMPERATURE_PERIOD + 1))\n",
    "        start_row = Kyoto_temperature[Kyoto_temperature[\"Year\"] == year].index[0]\n",
    "\n",
    "        for day in range(TEMPERATURE_PERIOD, curr_flowering_DOY):\n",
    "            curr_records[day-TEMPERATURE_PERIOD, :-1] = Kyoto_temperature.iloc[day-TEMPERATURE_PERIOD+start_row:day+start_row, 1].to_numpy()\n",
    "            curr_records[day-TEMPERATURE_PERIOD, -1] = curr_flowering_DOY - day if curr_flowering_DOY - day <= PREDICTION_PERIOD else 0\n",
    "        total_records = np.vstack((total_records, curr_records))"
   ]
  },
  {
   "cell_type": "code",
   "execution_count": 33,
   "metadata": {},
   "outputs": [],
   "source": [
    "np.savetxt(\"processed_data.csv\", total_records, delimiter=\",\", fmt=['%.2f']*10+['%d'])"
   ]
  },
  {
   "cell_type": "code",
   "execution_count": null,
   "metadata": {},
   "outputs": [],
   "source": []
  }
 ]
}