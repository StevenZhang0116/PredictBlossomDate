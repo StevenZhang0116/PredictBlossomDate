{
 "cells": [
  {
   "cell_type": "code",
   "execution_count": null,
   "metadata": {},
   "outputs": [],
   "source": [
    "import pandas as pd\n",
    "import numpy as np\n",
    "import dateutil"
   ]
  },
  {
   "cell_type": "code",
   "execution_count": null,
   "metadata": {},
   "outputs": [],
   "source": [
    "df1 = pd.read_csv('2556647.csv', usecols = ['DATE', 'TMAX', 'TMIN', 'TOBS'])\n",
    "df2 = pd.read_csv('2556652.csv', usecols = ['DATE', 'TMAX', 'TMIN', 'TOBS'])\n",
    "df = pd.concat([df1, df2], sort =False)\n",
    "df['TMAX'] = df['TMAX'].replace(np.nan, 0)\n",
    "df['TMIN'] = df['TMIN'].replace(np.nan, 0)\n",
    "\n",
    "col_avg = (df.loc[df['TOBS'].isna(),'TMAX'].add(df.loc[df['TOBS'].isna(),'TMIN'])) * 0.5\n",
    "df.loc[df['TOBS'].isna(), 'TOBS'] = col_avg"
   ]
  },
  {
   "cell_type": "code",
   "execution_count": null,
   "metadata": {},
   "outputs": [],
   "source": [
    "a = df['DATE'][0].tolist()\n",
    "a"
   ]
  },
  {
   "cell_type": "code",
   "execution_count": null,
   "metadata": {},
   "outputs": [],
   "source": [
    "from datetime import datetime \n",
    "A = datetime. strptime(a[0], '%d/%m/%y %H:%M:%S')"
   ]
  },
  {
   "cell_type": "code",
   "execution_count": null,
   "metadata": {},
   "outputs": [],
   "source": [
    "# df['DATE'] = pd.to_datetime(df['DATE']).timetuple().tm_yday\n",
    "# pd.Timestamp(d)"
   ]
  }
 ],
 "metadata": {
  "kernelspec": {
   "display_name": "Python 3",
   "language": "python",
   "name": "python3"
  },
  "language_info": {
   "codemirror_mode": {
    "name": "ipython",
    "version": 3
   },
   "file_extension": ".py",
   "mimetype": "text/x-python",
   "name": "python",
   "nbconvert_exporter": "python",
   "pygments_lexer": "ipython3",
   "version": "3.7.6"
  }
 },
 "nbformat": 4,
 "nbformat_minor": 2
}
