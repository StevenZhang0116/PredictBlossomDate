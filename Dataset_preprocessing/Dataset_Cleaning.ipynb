{
 "cells": [
  {
   "cell_type": "code",
   "execution_count": 27,
   "metadata": {},
   "outputs": [],
   "source": [
    "import pandas as pd\n",
    "import numpy as np\n",
    "import dateutil"
   ]
  },
  {
   "cell_type": "markdown",
   "metadata": {},
   "source": [
    "$\\space$\n",
    "# Label Set --> year | DOY "
   ]
  },
  {
   "cell_type": "code",
   "execution_count": 72,
   "metadata": {},
   "outputs": [],
   "source": [
    "# 1921-2016 -- Washington.D.C\n",
    "WDC_df = pd.read_csv('WashingtonDC_1921-2016_labels.csv', header=6, usecols=['Year','Yoshino peak bloom date']).fillna(0)\n",
    "WDC_df.to_csv(\"0_Labels_WDC.csv\", header=['year','DOY'], index=False)          \n",
    "\n",
    "# 1881-2015 -- Kyoto\n",
    "df = pd.read_excel('Kyoto_AD 801-2015_labels.xls', header = 25)\n",
    "kyoto_df = df.loc[1080:, ['AD', 'Full-flowering date (DOY)']].fillna(0)\n",
    "kyoto_df[\"Full-flowering date (DOY)\"] = kyoto_df[\"Full-flowering date (DOY)\"].astype(int)\n",
    "kyoto_df.to_csv(\"0_Labels_Kyoto.csv\", header=['year','DOY'], index=False)     "
   ]
  },
  {
   "cell_type": "markdown",
   "metadata": {},
   "source": [
    "$\\space$\n",
    "# Temperature Set --> year | month | day | DOY | TAVG | TMAX | TMIN "
   ]
  },
  {
   "cell_type": "markdown",
   "metadata": {},
   "source": [
    "### 日本 1881-2020 的日均温度数据(日本温度记录元年是1881/1/1)"
   ]
  },
  {
   "cell_type": "code",
   "execution_count": 24,
   "metadata": {},
   "outputs": [],
   "source": [
    "files = ['data_1881-1891.csv', 'data_1892-1911.csv', 'data_1912-1920.csv', \n",
    "         'data_1921-1940.csv', 'data_1941-1960.csv', 'data_1961-1980.csv',\n",
    "         'data_1981-2000.csv', 'data_2001-2020.csv']\n",
    "frames = [pd.read_csv(f, names=['Year', 'Month', 'Day', 'TAVG', 'TMAX', 'TMIN'], usecols=[3,4,5,6,9,12]).fillna(0) for f in files ]\n",
    "result = pd.concat(frames)"
   ]
  },
  {
   "cell_type": "code",
   "execution_count": 25,
   "metadata": {},
   "outputs": [],
   "source": [
    "result[\"DOY\"] = pd.to_datetime(result[[\"Year\", \"Month\", \"Day\"]]).dt.dayofyear\n",
    "result[[\"Year\", \"TAVG\", \"TMAX\", \"TMIN\", \"DOY\"]].to_csv(\"1_Temperature_Kyoto.csv\", index=False)"
   ]
  },
  {
   "cell_type": "markdown",
   "metadata": {},
   "source": [
    "### WDC 1949-2020 的日均温度数据"
   ]
  },
  {
   "cell_type": "code",
   "execution_count": 67,
   "metadata": {},
   "outputs": [],
   "source": [
    "df1 = pd.read_csv('WDC_Temp_1949-1989.csv', index_col=False)\n",
    "df2 = pd.read_csv('WDC_Temp_1990-2020.csv', index_col=False)\n",
    "df = pd.concat([df1, df2], sort=False)\n",
    "df = df[df['STATION'] == 'USC00186350']\n",
    "df['TMAX'] = df['TMAX'].replace(np.nan, 0)\n",
    "df['TMIN'] = df['TMIN'].replace(np.nan, 0)"
   ]
  },
  {
   "cell_type": "code",
   "execution_count": 68,
   "metadata": {},
   "outputs": [],
   "source": [
    "# 1. NaN in \"TOBS\" = Average(TMAX, TMIN)\n",
    "col_avg = (df.loc[df['TOBS'].isna(),'TMAX'].add(df.loc[df['TOBS'].isna(),'TMIN'])) * 0.5\n",
    "df.loc[df['TOBS'].isna(), 'TOBS'] = col_avg"
   ]
  },
  {
   "cell_type": "code",
   "execution_count": 69,
   "metadata": {},
   "outputs": [
    {
     "output_type": "stream",
     "name": "stderr",
     "text": [
      "<ipython-input-69-fc5ebc7dcdce>:3: SettingWithCopyWarning: \nA value is trying to be set on a copy of a slice from a DataFrame\n\nSee the caveats in the documentation: https://pandas.pydata.org/pandas-docs/stable/user_guide/indexing.html#returning-a-view-versus-a-copy\n  df[\"DATE\"][df[\"DATE\"] > \"2030-01-01\"] = df[\"DATE\"][df[\"DATE\"] > \"2030-01-01\"] - pd.DateOffset(years=100)\n/usr/local/lib/python3.9/site-packages/pandas/core/indexing.py:1637: SettingWithCopyWarning: \nA value is trying to be set on a copy of a slice from a DataFrame\n\nSee the caveats in the documentation: https://pandas.pydata.org/pandas-docs/stable/user_guide/indexing.html#returning-a-view-versus-a-copy\n  self._setitem_single_block(indexer, value, name)\n"
     ]
    }
   ],
   "source": [
    "# 2. 清理保留每年 1.1-4.30 的数据\n",
    "df[\"DATE\"] = pd.to_datetime(df[\"DATE\"], format=\"%m/%d/%y\")\n",
    "df[\"DATE\"][df[\"DATE\"] > \"2030-01-01\"] = df[\"DATE\"][df[\"DATE\"] > \"2030-01-01\"] - pd.DateOffset(years=100)\n",
    "result = df[df[\"DATE\"].dt.month <= 4]"
   ]
  },
  {
   "cell_type": "code",
   "execution_count": 70,
   "metadata": {},
   "outputs": [
    {
     "output_type": "stream",
     "name": "stderr",
     "text": [
      "<ipython-input-70-e00cb06ba78c>:2: SettingWithCopyWarning: \nA value is trying to be set on a copy of a slice from a DataFrame.\nTry using .loc[row_indexer,col_indexer] = value instead\n\nSee the caveats in the documentation: https://pandas.pydata.org/pandas-docs/stable/user_guide/indexing.html#returning-a-view-versus-a-copy\n  result[\"DOY\"] = result[\"DATE\"].dt.dayofyear\n<ipython-input-70-e00cb06ba78c>:3: SettingWithCopyWarning: \nA value is trying to be set on a copy of a slice from a DataFrame.\nTry using .loc[row_indexer,col_indexer] = value instead\n\nSee the caveats in the documentation: https://pandas.pydata.org/pandas-docs/stable/user_guide/indexing.html#returning-a-view-versus-a-copy\n  result[\"Year\"] = result[\"DATE\"].dt.year\n/usr/local/lib/python3.9/site-packages/pandas/core/frame.py:4441: SettingWithCopyWarning: \nA value is trying to be set on a copy of a slice from a DataFrame\n\nSee the caveats in the documentation: https://pandas.pydata.org/pandas-docs/stable/user_guide/indexing.html#returning-a-view-versus-a-copy\n  return super().rename(\n/usr/local/lib/python3.9/site-packages/pandas/core/frame.py:3191: SettingWithCopyWarning: \nA value is trying to be set on a copy of a slice from a DataFrame.\nTry using .loc[row_indexer,col_indexer] = value instead\n\nSee the caveats in the documentation: https://pandas.pydata.org/pandas-docs/stable/user_guide/indexing.html#returning-a-view-versus-a-copy\n  self[k1] = value[k2]\n"
     ]
    }
   ],
   "source": [
    "# 3. 增加column/改名/华氏度->摄氏度\n",
    "result[\"DOY\"] = result[\"DATE\"].dt.dayofyear\n",
    "result[\"Year\"] = result[\"DATE\"].dt.year\n",
    "result.rename(columns = {\"TOBS\":\"TAVG\"}, inplace = True)\n",
    "result[[\"TAVG\", \"TMAX\", \"TMIN\"]] = result[[\"TAVG\", \"TMAX\", \"TMIN\"]].apply(lambda x: round((x-32)* 5 / 9, 2))"
   ]
  },
  {
   "cell_type": "code",
   "execution_count": 71,
   "metadata": {},
   "outputs": [],
   "source": [
    "result[[\"Year\", \"TAVG\", \"TMAX\", \"TMIN\", \"DOY\"]].to_csv(\"1_Temperature_WDC.csv\", index=False)"
   ]
  },
  {
   "cell_type": "code",
   "execution_count": null,
   "metadata": {},
   "outputs": [],
   "source": []
  },
  {
   "cell_type": "code",
   "execution_count": null,
   "metadata": {},
   "outputs": [],
   "source": []
  },
  {
   "cell_type": "code",
   "execution_count": null,
   "metadata": {},
   "outputs": [],
   "source": [
    "# 记得调整 ‘TAVG’ 的位置\n",
    "# pd.concat([df1, df2]).to_csv(\"1_Temperature_WDC.csv\", header=['year', 'month', 'day', 'DOY', 'TAVG', 'TMAX', 'TMIN'], index=False)"
   ]
  }
 ],
 "metadata": {
  "kernelspec": {
   "display_name": "Python 3",
   "language": "python",
   "name": "python3"
  },
  "language_info": {
   "codemirror_mode": {
    "name": "ipython",
    "version": 3
   },
   "file_extension": ".py",
   "mimetype": "text/x-python",
   "name": "python",
   "nbconvert_exporter": "python",
   "pygments_lexer": "ipython3",
   "version": "3.9.4"
  }
 },
 "nbformat": 4,
 "nbformat_minor": 2
}