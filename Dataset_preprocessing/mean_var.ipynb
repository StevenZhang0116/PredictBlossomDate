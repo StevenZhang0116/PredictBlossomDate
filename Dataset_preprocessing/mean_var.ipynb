{
 "cells": [
  {
   "cell_type": "code",
   "execution_count": 7,
   "id": "intended-nickname",
   "metadata": {},
   "outputs": [],
   "source": [
    "import numpy as np\n",
    "import pandas as pd\n",
    "import numpy as np\n",
    "import matplotlib.pyplot as plt\n",
    "import seaborn as sns\n",
    "%matplotlib inline\n",
    "\n",
    "from sklearn import svm\n",
    "import sklearn.model_selection as model_selection\n",
    "import sklearn.metrics as metrics\n",
    "from sklearn.multiclass import OneVsOneClassifier\n",
    "\n",
    "# Imblearn 的 Import\n",
    "# \n",
    "\n",
    "# Import Processed Data\n",
    "df = pd.read_csv('processed_data.csv', names = ['D1', 'D2', 'D3', 'D4', 'D5', 'D6', 'D7', 'D8', 'D9', 'D10', 'y_i'])\n",
    "dumb_df = df[['D1', 'D2', 'D3', 'D4', 'D5', 'D6', 'D7', 'D8', 'D9', 'D10']]\n",
    "DAYs_df = pd.DataFrame()\n",
    "DAYs_df['TMAX'] = dumb_df.max(axis = 1)\n",
    "DAYs_df['TMIN'] = dumb_df.min(axis = 1)\n",
    "DAYs_df['TMEAN'] = dumb_df.mean(axis = 1)\n",
    "DAYs_df['TVAR'] = dumb_df.var(axis = 1)\n",
    "\n",
    "# Raw Feature & Labels\n",
    "X = DAYs_df.values\n",
    "y = df['y_i']\n",
    "\n",
    "# Built-in Random SPLIT\n",
    "X_train, X_test, y_train, y_test = model_selection.train_test_split(X, y, train_size=0.80, test_size=0.20)"
   ]
  },
  {
   "cell_type": "code",
   "execution_count": 8,
   "id": "desirable-vertex",
   "metadata": {},
   "outputs": [
    {
     "name": "stdout",
     "output_type": "stream",
     "text": [
      "        TMAX  TMIN   TMEAN       TVAR\n",
      "0      15.56  5.00  10.111  17.671099\n",
      "1      15.56  5.00  10.444  15.412249\n",
      "2      15.56  4.44  10.332  16.753262\n",
      "3      15.56  4.44  10.443  16.382646\n",
      "4      15.56  4.44  10.776  13.463716\n",
      "...      ...   ...     ...        ...\n",
      "18066  14.70  9.20  12.170   3.640111\n",
      "18067  14.70  9.20  12.580   3.070667\n",
      "18068  14.70  9.20  12.250   3.338333\n",
      "18069  14.70  9.20  11.820   3.801778\n",
      "18070  14.70  9.20  11.790   3.765444\n",
      "\n",
      "[18071 rows x 4 columns]\n"
     ]
    }
   ],
   "source": [
    "print(DAYs_df)"
   ]
  }
 ],
 "metadata": {
  "kernelspec": {
   "display_name": "Python 3",
   "language": "python",
   "name": "python3"
  },
  "language_info": {
   "codemirror_mode": {
    "name": "ipython",
    "version": 3
   },
   "file_extension": ".py",
   "mimetype": "text/x-python",
   "name": "python",
   "nbconvert_exporter": "python",
   "pygments_lexer": "ipython3",
   "version": "3.7.6"
  }
 },
 "nbformat": 4,
 "nbformat_minor": 5
}
