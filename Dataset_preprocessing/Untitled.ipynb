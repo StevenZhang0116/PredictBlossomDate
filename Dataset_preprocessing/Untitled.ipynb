{
 "cells": [
  {
   "cell_type": "code",
   "execution_count": 2,
   "metadata": {},
   "outputs": [
    {
     "name": "stdout",
     "output_type": "stream",
     "text": [
      "63.82728259639297\n",
      "3280031.6555382623\n",
      "213144108085.57556\n"
     ]
    }
   ],
   "source": [
    "import numpy as np\n",
    "for n in [5,15,25]:\n",
    "\n",
    "    matrix = np.array([np.array([(-1+(2*i/n))**k for k in range(n+1)]) for i in range(n+1)])\n",
    "\n",
    "    kappa = np.linalg.cond(matrix,p=2)\n",
    "\n",
    "    print(kappa)"
   ]
  },
  {
   "cell_type": "code",
   "execution_count": 5,
   "metadata": {},
   "outputs": [],
   "source": [
    "n = 5\n",
    "matrix = np.array([np.array([(-1+(2*i/n))**k for k in range(n+1)]) for i in range(n+1)])"
   ]
  },
  {
   "cell_type": "code",
   "execution_count": 6,
   "metadata": {},
   "outputs": [
    {
     "data": {
      "text/plain": [
       "array([[ 1.000e+00, -1.000e+00,  1.000e+00, -1.000e+00,  1.000e+00,\n",
       "        -1.000e+00],\n",
       "       [ 1.000e+00, -6.000e-01,  3.600e-01, -2.160e-01,  1.296e-01,\n",
       "        -7.776e-02],\n",
       "       [ 1.000e+00, -2.000e-01,  4.000e-02, -8.000e-03,  1.600e-03,\n",
       "        -3.200e-04],\n",
       "       [ 1.000e+00,  2.000e-01,  4.000e-02,  8.000e-03,  1.600e-03,\n",
       "         3.200e-04],\n",
       "       [ 1.000e+00,  6.000e-01,  3.600e-01,  2.160e-01,  1.296e-01,\n",
       "         7.776e-02],\n",
       "       [ 1.000e+00,  1.000e+00,  1.000e+00,  1.000e+00,  1.000e+00,\n",
       "         1.000e+00]])"
      ]
     },
     "execution_count": 6,
     "metadata": {},
     "output_type": "execute_result"
    }
   ],
   "source": [
    "matrix"
   ]
  },
  {
   "cell_type": "code",
   "execution_count": null,
   "metadata": {},
   "outputs": [],
   "source": []
  }
 ],
 "metadata": {
  "kernelspec": {
   "display_name": "Python 3",
   "language": "python",
   "name": "python3"
  },
  "language_info": {
   "codemirror_mode": {
    "name": "ipython",
    "version": 3
   },
   "file_extension": ".py",
   "mimetype": "text/x-python",
   "name": "python",
   "nbconvert_exporter": "python",
   "pygments_lexer": "ipython3",
   "version": "3.7.1"
  }
 },
 "nbformat": 4,
 "nbformat_minor": 2
}
